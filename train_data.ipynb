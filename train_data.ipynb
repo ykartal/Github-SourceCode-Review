{
 "cells": [
  {
   "cell_type": "code",
   "execution_count": 36,
   "metadata": {},
   "outputs": [],
   "source": [
    "import pandas as pd"
   ]
  },
  {
   "cell_type": "code",
   "execution_count": null,
   "metadata": {},
   "outputs": [],
   "source": [
    "# Variations, c1, c3, c5, c10, threshold mean, 0.65, %75"
   ]
  },
  {
   "cell_type": "code",
   "execution_count": 51,
   "metadata": {},
   "outputs": [],
   "source": [
    "candidates= [1, 3, 5, 10]\n",
    "thresholds = [\"mean\", \"0.65\", \"%75\"]"
   ]
  },
  {
   "cell_type": "code",
   "execution_count": 57,
   "metadata": {},
   "outputs": [],
   "source": [
    "def get_threshold(df, th_type):\n",
    "    if th_type == \"mean\":\n",
    "        return df[\"max_score\"].mean()\n",
    "    elif th_type == \"0.65\":\n",
    "        return 0.65\n",
    "    elif th_type == \"%75\":\n",
    "        return df[\"max_score\"].quantile(0.75)"
   ]
  },
  {
   "cell_type": "code",
   "execution_count": 59,
   "metadata": {},
   "outputs": [],
   "source": [
    "for candidate in candidates:\n",
    "    df = pd.read_csv(f\"./evaluation/speed/cosine_bleu_C{candidate}_.csv\")\n",
    "    df[\"max_score\"] = df.apply(lambda x: x[x[\"fastest\"]], axis=1)\n",
    "    for threshold in thresholds:\n",
    "        filtered = df[df[\"max_score\"] >= get_threshold(df, threshold)]\n",
    "        train_data = filtered[[\"code\", \"fastest\"]].rename(columns={\"fastest\": \"label\", \"code\": \"text\"})\n",
    "        train_data.to_csv(f\"./data/classification/cosine_bleu_C{candidate}_T{threshold}.csv\", index=False)"
   ]
  },
  {
   "cell_type": "code",
   "execution_count": 37,
   "metadata": {},
   "outputs": [],
   "source": [
    "df = pd.read_csv(\"./evaluation/speed/cosine_bleu_C1_.csv\")"
   ]
  },
  {
   "cell_type": "code",
   "execution_count": 38,
   "metadata": {},
   "outputs": [],
   "source": [
    "df[\"max_score\"] = df.apply(lambda x: x[x[\"fastest\"]], axis=1)"
   ]
  },
  {
   "cell_type": "code",
   "execution_count": 44,
   "metadata": {},
   "outputs": [],
   "source": [
    "filtered = df[(df[\"max_score\"] > 0.65)]"
   ]
  },
  {
   "cell_type": "code",
   "execution_count": 50,
   "metadata": {},
   "outputs": [],
   "source": [
    "train_data = filtered[[\"code\", \"fastest\"]].rename(columns={\"fastest\": \"label\", \"code\": \"text\"})\n",
    "train_data.to_csv(\"./data/classification/cosine_bleu_C1_filter65.csv\", index=False)"
   ]
  }
 ],
 "metadata": {
  "kernelspec": {
   "display_name": ".env",
   "language": "python",
   "name": "python3"
  },
  "language_info": {
   "codemirror_mode": {
    "name": "ipython",
    "version": 3
   },
   "file_extension": ".py",
   "mimetype": "text/x-python",
   "name": "python",
   "nbconvert_exporter": "python",
   "pygments_lexer": "ipython3",
   "version": "3.9.13"
  },
  "orig_nbformat": 4
 },
 "nbformat": 4,
 "nbformat_minor": 2
}
