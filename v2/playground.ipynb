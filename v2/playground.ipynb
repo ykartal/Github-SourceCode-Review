{
 "cells": [
  {
   "cell_type": "code",
   "execution_count": 1,
   "metadata": {},
   "outputs": [],
   "source": [
    "import pandas as pd\n",
    "from sklearn.model_selection import train_test_split\n",
    "from helpers.calculate_metrics import calculate_metric_means_with_top_k_closest_samples\n",
    "from sklearn.feature_extraction.text import TfidfVectorizer, CountVectorizer\n",
    "from helpers.vector_distance import Cosine, Manhattan\n",
    "from helpers.text_distance import Bleu, Rouge\n",
    "import numpy as np\n",
    "from experiments.base import PhaseOneExperiment"
   ]
  },
  {
   "cell_type": "code",
   "execution_count": 2,
   "metadata": {},
   "outputs": [],
   "source": [
    "data = pd.read_csv(\"data/comment_finder_data.csv\")\n",
    "data = data[:1000]\n",
    "train, test = train_test_split(data, test_size=0.2, random_state=1)"
   ]
  },
  {
   "cell_type": "code",
   "execution_count": 3,
   "metadata": {},
   "outputs": [
    {
     "name": "stdout",
     "output_type": "stream",
     "text": [
      "Finished: 200/200\n",
      "Finished: 200/200\n"
     ]
    }
   ],
   "source": [
    "tf_idf_vs_bow = PhaseOneExperiment(\"tfidf_vs_bow\", [TfidfVectorizer, CountVectorizer], [Cosine], [Bleu, Rouge], 10)\n",
    "tf_idf_vs_bow.run(train, test)"
   ]
  },
  {
   "cell_type": "code",
   "execution_count": 4,
   "metadata": {},
   "outputs": [
    {
     "data": {
      "text/html": [
       "<div>\n",
       "<style scoped>\n",
       "    .dataframe tbody tr th:only-of-type {\n",
       "        vertical-align: middle;\n",
       "    }\n",
       "\n",
       "    .dataframe tbody tr th {\n",
       "        vertical-align: top;\n",
       "    }\n",
       "\n",
       "    .dataframe thead th {\n",
       "        text-align: right;\n",
       "    }\n",
       "</style>\n",
       "<table border=\"1\" class=\"dataframe\">\n",
       "  <thead>\n",
       "    <tr style=\"text-align: right;\">\n",
       "      <th></th>\n",
       "      <th>test_idx</th>\n",
       "      <th>recommendation_idx</th>\n",
       "      <th>(distance,bleu)</th>\n",
       "      <th>(distance,rouge)</th>\n",
       "    </tr>\n",
       "  </thead>\n",
       "  <tbody>\n",
       "    <tr>\n",
       "      <th>0</th>\n",
       "      <td>0</td>\n",
       "      <td>315</td>\n",
       "      <td>(0.82, 0.03)</td>\n",
       "      <td>(0.62, 0.0)</td>\n",
       "    </tr>\n",
       "    <tr>\n",
       "      <th>1</th>\n",
       "      <td>1</td>\n",
       "      <td>456</td>\n",
       "      <td>(0.84, 0.25)</td>\n",
       "      <td>(0.84, 0.22)</td>\n",
       "    </tr>\n",
       "    <tr>\n",
       "      <th>2</th>\n",
       "      <td>2</td>\n",
       "      <td>680</td>\n",
       "      <td>(0.73, 0.08)</td>\n",
       "      <td>(0.69, 0.1)</td>\n",
       "    </tr>\n",
       "    <tr>\n",
       "      <th>3</th>\n",
       "      <td>3</td>\n",
       "      <td>77</td>\n",
       "      <td>(0.87, 0.16)</td>\n",
       "      <td>(0.78, 0.12)</td>\n",
       "    </tr>\n",
       "    <tr>\n",
       "      <th>4</th>\n",
       "      <td>4</td>\n",
       "      <td>165</td>\n",
       "      <td>(0.84, 0.11)</td>\n",
       "      <td>(0.84, 0.33)</td>\n",
       "    </tr>\n",
       "    <tr>\n",
       "      <th>...</th>\n",
       "      <td>...</td>\n",
       "      <td>...</td>\n",
       "      <td>...</td>\n",
       "      <td>...</td>\n",
       "    </tr>\n",
       "    <tr>\n",
       "      <th>195</th>\n",
       "      <td>195</td>\n",
       "      <td>602</td>\n",
       "      <td>(0.91, 0.29)</td>\n",
       "      <td>(0.91, 0.19)</td>\n",
       "    </tr>\n",
       "    <tr>\n",
       "      <th>196</th>\n",
       "      <td>196</td>\n",
       "      <td>91</td>\n",
       "      <td>(0.81, 0.18)</td>\n",
       "      <td>(0.86, 0.33)</td>\n",
       "    </tr>\n",
       "    <tr>\n",
       "      <th>197</th>\n",
       "      <td>197</td>\n",
       "      <td>77</td>\n",
       "      <td>(0.87, 0.02)</td>\n",
       "      <td>(0.83, 0.0)</td>\n",
       "    </tr>\n",
       "    <tr>\n",
       "      <th>198</th>\n",
       "      <td>198</td>\n",
       "      <td>796</td>\n",
       "      <td>(0.96, 0.29)</td>\n",
       "      <td>(0.97, 0.32)</td>\n",
       "    </tr>\n",
       "    <tr>\n",
       "      <th>199</th>\n",
       "      <td>199</td>\n",
       "      <td>568</td>\n",
       "      <td>(0.72, 0.15)</td>\n",
       "      <td>(0.78, 0.5)</td>\n",
       "    </tr>\n",
       "  </tbody>\n",
       "</table>\n",
       "<p>200 rows × 4 columns</p>\n",
       "</div>"
      ],
      "text/plain": [
       "     test_idx  recommendation_idx (distance,bleu) (distance,rouge)\n",
       "0           0                 315    (0.82, 0.03)      (0.62, 0.0)\n",
       "1           1                 456    (0.84, 0.25)     (0.84, 0.22)\n",
       "2           2                 680    (0.73, 0.08)      (0.69, 0.1)\n",
       "3           3                  77    (0.87, 0.16)     (0.78, 0.12)\n",
       "4           4                 165    (0.84, 0.11)     (0.84, 0.33)\n",
       "..        ...                 ...             ...              ...\n",
       "195       195                 602    (0.91, 0.29)     (0.91, 0.19)\n",
       "196       196                  91    (0.81, 0.18)     (0.86, 0.33)\n",
       "197       197                  77    (0.87, 0.02)      (0.83, 0.0)\n",
       "198       198                 796    (0.96, 0.29)     (0.97, 0.32)\n",
       "199       199                 568    (0.72, 0.15)      (0.78, 0.5)\n",
       "\n",
       "[200 rows x 4 columns]"
      ]
     },
     "execution_count": 4,
     "metadata": {},
     "output_type": "execute_result"
    }
   ],
   "source": [
    "tf_idf_vs_bow.results[\"tfidf_cosine\"]"
   ]
  },
  {
   "cell_type": "code",
   "execution_count": null,
   "metadata": {},
   "outputs": [],
   "source": [
    "rest = calculate_metric_means_with_top_k_closest_samples(5, train, test, TfidfVectorizer(), Cosine, [Bleu], chunk_size=1000)"
   ]
  },
  {
   "cell_type": "code",
   "execution_count": null,
   "metadata": {},
   "outputs": [],
   "source": [
    "arr = np.array([1, 2, 3, 4, 5, 6, 7, 8, 9, 10])"
   ]
  },
  {
   "cell_type": "code",
   "execution_count": null,
   "metadata": {},
   "outputs": [],
   "source": [
    "arr.argsort()[:5]"
   ]
  },
  {
   "cell_type": "code",
   "execution_count": null,
   "metadata": {},
   "outputs": [],
   "source": [
    "df = pd.DataFrame(rest)"
   ]
  },
  {
   "cell_type": "code",
   "execution_count": null,
   "metadata": {},
   "outputs": [],
   "source": [
    "df"
   ]
  },
  {
   "cell_type": "code",
   "execution_count": null,
   "metadata": {},
   "outputs": [],
   "source": [
    "test_codes = test[\"code\"].to_numpy()"
   ]
  },
  {
   "cell_type": "code",
   "execution_count": null,
   "metadata": {},
   "outputs": [],
   "source": []
  }
 ],
 "metadata": {
  "kernelspec": {
   "display_name": "Python 3.9.1 64-bit",
   "language": "python",
   "name": "python3"
  },
  "language_info": {
   "codemirror_mode": {
    "name": "ipython",
    "version": 3
   },
   "file_extension": ".py",
   "mimetype": "text/x-python",
   "name": "python",
   "nbconvert_exporter": "python",
   "pygments_lexer": "ipython3",
   "version": "3.9.1"
  },
  "orig_nbformat": 4,
  "vscode": {
   "interpreter": {
    "hash": "df8ed62b7dd9dab0a80d2ba626519719a7d48882a1ea6ad1f541be354f602cb4"
   }
  }
 },
 "nbformat": 4,
 "nbformat_minor": 2
}
