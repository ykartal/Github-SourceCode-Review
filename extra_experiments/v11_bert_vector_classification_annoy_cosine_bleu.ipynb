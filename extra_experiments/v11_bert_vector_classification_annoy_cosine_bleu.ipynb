{
 "cells": [
  {
   "cell_type": "code",
   "execution_count": 9,
   "metadata": {},
   "outputs": [],
   "source": [
    "from tqdm import tqdm\n",
    "from keras_tqdm import TQDMNotebookCallback\n",
    "from tqdm.keras import TqdmCallback\n",
    "from libs.feature_extraction.vectorizers import BertVectorizer\n",
    "import pandas as pd\n",
    "import numpy as np\n",
    "import scipy \n",
    "from sklearn.model_selection import train_test_split\n",
    "from annoy import AnnoyIndex\n",
    "import tensorflow as tf\n",
    "\n",
    "test_index = \"1\""
   ]
  },
  {
   "cell_type": "code",
   "execution_count": 2,
   "metadata": {},
   "outputs": [
    {
     "data": {
      "text/html": [
       "<div>\n",
       "<style scoped>\n",
       "    .dataframe tbody tr th:only-of-type {\n",
       "        vertical-align: middle;\n",
       "    }\n",
       "\n",
       "    .dataframe tbody tr th {\n",
       "        vertical-align: top;\n",
       "    }\n",
       "\n",
       "    .dataframe thead th {\n",
       "        text-align: right;\n",
       "    }\n",
       "</style>\n",
       "<table border=\"1\" class=\"dataframe\">\n",
       "  <thead>\n",
       "    <tr style=\"text-align: right;\">\n",
       "      <th></th>\n",
       "      <th>Unnamed: 0</th>\n",
       "      <th>index</th>\n",
       "      <th>code</th>\n",
       "      <th>comment</th>\n",
       "      <th>bert</th>\n",
       "      <th>bow</th>\n",
       "      <th>doc2vec</th>\n",
       "      <th>tfidf</th>\n",
       "      <th>word2vec</th>\n",
       "      <th>max</th>\n",
       "      <th>fastest</th>\n",
       "      <th>bert_vector</th>\n",
       "      <th>bow_vector</th>\n",
       "      <th>d2v_vector</th>\n",
       "      <th>tfidf_vector</th>\n",
       "      <th>w2v_vector</th>\n",
       "    </tr>\n",
       "  </thead>\n",
       "  <tbody>\n",
       "    <tr>\n",
       "      <th>2946</th>\n",
       "      <td>2946</td>\n",
       "      <td>15127</td>\n",
       "      <td>public void setRetryAnalyzerClass(Class&lt;? exte...</td>\n",
       "      <td>If you remove the condition, the retry analyze...</td>\n",
       "      <td>0.2685</td>\n",
       "      <td>0.3102</td>\n",
       "      <td>0.3257</td>\n",
       "      <td>0.1812</td>\n",
       "      <td>0.2078</td>\n",
       "      <td>doc2vec</td>\n",
       "      <td>doc2vec</td>\n",
       "      <td>[1.4211076498031616, 1.7952861785888672, 1.694...</td>\n",
       "      <td>[1, 2, 4, 1, 1, 1, 1, 2, 2, 1, 1, 1, 1, 1, 4, ...</td>\n",
       "      <td>[-0.07950009405612946, -0.3106173872947693, -0...</td>\n",
       "      <td>[0.08749115548660817, 0.11191024852297732, 0.2...</td>\n",
       "      <td>[0.12838146090507507, 0.022135326638817787, -0...</td>\n",
       "    </tr>\n",
       "    <tr>\n",
       "      <th>14498</th>\n",
       "      <td>14498</td>\n",
       "      <td>72699</td>\n",
       "      <td>public void decode(final ActiveMQBuffer buffer...</td>\n",
       "      <td>should check buffer has readable bytes before ...</td>\n",
       "      <td>0.1573</td>\n",
       "      <td>0.1860</td>\n",
       "      <td>0.1409</td>\n",
       "      <td>0.1974</td>\n",
       "      <td>0.1409</td>\n",
       "      <td>tfidf</td>\n",
       "      <td>tfidf</td>\n",
       "      <td>[-0.05705857276916504, 1.6619645357131958, 1.5...</td>\n",
       "      <td>[2, 2, 1, 1, 1, 4, 1, 1, 1, 4, 3, 10, 8, 1, 1,...</td>\n",
       "      <td>[0.19287395477294922, -0.08093244582414627, -0...</td>\n",
       "      <td>[0.23118012755441908, 0.24086694995460078, 0.0...</td>\n",
       "      <td>[0.15540999174118042, 0.033003538846969604, -0...</td>\n",
       "    </tr>\n",
       "    <tr>\n",
       "      <th>7603</th>\n",
       "      <td>7603</td>\n",
       "      <td>38277</td>\n",
       "      <td>public void testEmptyGrammar() throws Exceptio...</td>\n",
       "      <td>Please assert what the nullable state is.</td>\n",
       "      <td>0.7438</td>\n",
       "      <td>0.7438</td>\n",
       "      <td>0.7438</td>\n",
       "      <td>0.7438</td>\n",
       "      <td>0.7438</td>\n",
       "      <td>bert,bow,doc2vec,tfidf,word2vec</td>\n",
       "      <td>word2vec</td>\n",
       "      <td>[-0.9278151392936707, -2.588371515274048, -1.8...</td>\n",
       "      <td>[1, 5, 6, 3, 2, 2, 2, 1, 2, 1, 2, 5, 1, 22, 6,...</td>\n",
       "      <td>[0.07985500246286392, -0.18387103080749512, 0....</td>\n",
       "      <td>[0.056455059027770926, 0.0072347403239033025, ...</td>\n",
       "      <td>[0.15897350013256073, 0.003133091377094388, -0...</td>\n",
       "    </tr>\n",
       "    <tr>\n",
       "      <th>13483</th>\n",
       "      <td>13483</td>\n",
       "      <td>67582</td>\n",
       "      <td>public T get(int index) { if ((index &lt; 0) || (...</td>\n",
       "      <td>I believe these 3 lines should be moved to BMT...</td>\n",
       "      <td>0.2600</td>\n",
       "      <td>0.2811</td>\n",
       "      <td>0.2481</td>\n",
       "      <td>0.2734</td>\n",
       "      <td>0.1897</td>\n",
       "      <td>bow</td>\n",
       "      <td>bow</td>\n",
       "      <td>[2.1383397579193115, -2.1346991062164307, 0.18...</td>\n",
       "      <td>[1, 1, 1, 2, 1, 2, 1, 1, 2, 1, 2, 1]</td>\n",
       "      <td>[-0.016941074281930923, -0.06670092791318893, ...</td>\n",
       "      <td>[0.15990545838598244, 0.1407705785830353, 0.06...</td>\n",
       "      <td>[0.1646423190832138, 0.027110010385513306, -0....</td>\n",
       "    </tr>\n",
       "    <tr>\n",
       "      <th>29961</th>\n",
       "      <td>29961</td>\n",
       "      <td>149773</td>\n",
       "      <td>public void getJobCreatedNotification() throws...</td>\n",
       "      <td>Is this notification ever removed? if not, wil...</td>\n",
       "      <td>0.2832</td>\n",
       "      <td>0.3109</td>\n",
       "      <td>0.2671</td>\n",
       "      <td>0.2671</td>\n",
       "      <td>0.2716</td>\n",
       "      <td>bow</td>\n",
       "      <td>bow</td>\n",
       "      <td>[2.243591070175171, -0.5650543570518494, 0.462...</td>\n",
       "      <td>[2, 3, 1, 1, 1, 1, 1, 3, 1, 1, 1, 1, 3, 1, 3, ...</td>\n",
       "      <td>[0.002291375072672963, -0.07853321731090546, 0...</td>\n",
       "      <td>[0.03723091116678736, 0.06325774007911165, 0.0...</td>\n",
       "      <td>[0.12448612600564957, -0.004880845546722412, -...</td>\n",
       "    </tr>\n",
       "  </tbody>\n",
       "</table>\n",
       "</div>"
      ],
      "text/plain": [
       "       Unnamed: 0   index                                               code  \\\n",
       "2946         2946   15127  public void setRetryAnalyzerClass(Class<? exte...   \n",
       "14498       14498   72699  public void decode(final ActiveMQBuffer buffer...   \n",
       "7603         7603   38277  public void testEmptyGrammar() throws Exceptio...   \n",
       "13483       13483   67582  public T get(int index) { if ((index < 0) || (...   \n",
       "29961       29961  149773  public void getJobCreatedNotification() throws...   \n",
       "\n",
       "                                                 comment    bert     bow  \\\n",
       "2946   If you remove the condition, the retry analyze...  0.2685  0.3102   \n",
       "14498  should check buffer has readable bytes before ...  0.1573  0.1860   \n",
       "7603           Please assert what the nullable state is.  0.7438  0.7438   \n",
       "13483  I believe these 3 lines should be moved to BMT...  0.2600  0.2811   \n",
       "29961  Is this notification ever removed? if not, wil...  0.2832  0.3109   \n",
       "\n",
       "       doc2vec   tfidf  word2vec                              max   fastest  \\\n",
       "2946    0.3257  0.1812    0.2078                          doc2vec   doc2vec   \n",
       "14498   0.1409  0.1974    0.1409                            tfidf     tfidf   \n",
       "7603    0.7438  0.7438    0.7438  bert,bow,doc2vec,tfidf,word2vec  word2vec   \n",
       "13483   0.2481  0.2734    0.1897                              bow       bow   \n",
       "29961   0.2671  0.2671    0.2716                              bow       bow   \n",
       "\n",
       "                                             bert_vector  \\\n",
       "2946   [1.4211076498031616, 1.7952861785888672, 1.694...   \n",
       "14498  [-0.05705857276916504, 1.6619645357131958, 1.5...   \n",
       "7603   [-0.9278151392936707, -2.588371515274048, -1.8...   \n",
       "13483  [2.1383397579193115, -2.1346991062164307, 0.18...   \n",
       "29961  [2.243591070175171, -0.5650543570518494, 0.462...   \n",
       "\n",
       "                                              bow_vector  \\\n",
       "2946   [1, 2, 4, 1, 1, 1, 1, 2, 2, 1, 1, 1, 1, 1, 4, ...   \n",
       "14498  [2, 2, 1, 1, 1, 4, 1, 1, 1, 4, 3, 10, 8, 1, 1,...   \n",
       "7603   [1, 5, 6, 3, 2, 2, 2, 1, 2, 1, 2, 5, 1, 22, 6,...   \n",
       "13483               [1, 1, 1, 2, 1, 2, 1, 1, 2, 1, 2, 1]   \n",
       "29961  [2, 3, 1, 1, 1, 1, 1, 3, 1, 1, 1, 1, 3, 1, 3, ...   \n",
       "\n",
       "                                              d2v_vector  \\\n",
       "2946   [-0.07950009405612946, -0.3106173872947693, -0...   \n",
       "14498  [0.19287395477294922, -0.08093244582414627, -0...   \n",
       "7603   [0.07985500246286392, -0.18387103080749512, 0....   \n",
       "13483  [-0.016941074281930923, -0.06670092791318893, ...   \n",
       "29961  [0.002291375072672963, -0.07853321731090546, 0...   \n",
       "\n",
       "                                            tfidf_vector  \\\n",
       "2946   [0.08749115548660817, 0.11191024852297732, 0.2...   \n",
       "14498  [0.23118012755441908, 0.24086694995460078, 0.0...   \n",
       "7603   [0.056455059027770926, 0.0072347403239033025, ...   \n",
       "13483  [0.15990545838598244, 0.1407705785830353, 0.06...   \n",
       "29961  [0.03723091116678736, 0.06325774007911165, 0.0...   \n",
       "\n",
       "                                              w2v_vector  \n",
       "2946   [0.12838146090507507, 0.022135326638817787, -0...  \n",
       "14498  [0.15540999174118042, 0.033003538846969604, -0...  \n",
       "7603   [0.15897350013256073, 0.003133091377094388, -0...  \n",
       "13483  [0.1646423190832138, 0.027110010385513306, -0....  \n",
       "29961  [0.12448612600564957, -0.004880845546722412, -...  "
      ]
     },
     "metadata": {},
     "output_type": "display_data"
    },
    {
     "data": {
      "text/plain": [
       "array([2, 3, 4, 1, 1, 2, 2, 0, 0, 1])"
      ]
     },
     "metadata": {},
     "output_type": "display_data"
    },
    {
     "data": {
      "text/plain": [
       "array([4, 0, 4, 3, 1, 4, 3, 0, 4, 4])"
      ]
     },
     "metadata": {},
     "output_type": "display_data"
    }
   ],
   "source": [
    "test_df = pd.read_csv('./train-test-data/fold'+test_index+'/test_data.csv')\n",
    "\n",
    "test_df['bert_vector'] = np.load('./train-test-data/fold'+test_index+'/bert_test_vectors.npy').tolist()\n",
    "test_df['bow_vector'] = np.load('./train-test-data/fold'+test_index+'/bow_test_vectors.npy', allow_pickle=True).tolist()\n",
    "test_df['d2v_vector'] = np.load('./train-test-data/fold'+test_index+'/d2v_test_vectors.npy').tolist()\n",
    "test_df['tfidf_vector'] = np.load('./train-test-data/fold'+test_index+'/tfidf_test_vectors.npy', allow_pickle=True).tolist()\n",
    "test_df['w2v_vector'] = np.load('./train-test-data/fold'+test_index+'/w2v_test_vectors.npy').tolist()\n",
    "\n",
    "train_data, test_data = train_test_split(test_df, test_size=0.30, random_state=42)\n",
    "display(train_data.head())\n",
    "\n",
    "bert_x_train = np.array([np.array(xi) for xi in train_data['bert_vector']])\n",
    "bert_x_test = np.array([np.array(xi) for xi in test_data['bert_vector']])\n",
    "\n",
    "bow_x_train = np.array([np.pad(np.array(xi, dtype='uint8'), (0,376565-len(xi))) for xi in train_data['bow_vector']])\n",
    "bow_x_test = np.array([np.pad(np.array(xi, dtype='uint8'), (0,376565-len(xi))) for xi in test_data['bow_vector']])\n",
    "\n",
    "d2v_x_train = np.array([np.array(xi) for xi in train_data['d2v_vector']])\n",
    "d2v_x_test = np.array([np.array(xi) for xi in test_data['d2v_vector']])\n",
    "\n",
    "tfidf_x_train = np.array([np.pad(np.array(xi, dtype='uint8'), (0,376565-len(xi))) for xi in train_data['tfidf_vector']])\n",
    "tfidf_x_test = np.array([np.pad(np.array(xi, dtype='uint8'), (0,376565-len(xi))) for xi in test_data['tfidf_vector']])\n",
    "\n",
    "w2v_x_train = np.array([np.array(xi) for xi in train_data['w2v_vector']])\n",
    "w2v_x_test = np.array([np.array(xi) for xi in test_data['w2v_vector']])\n",
    "\n",
    "\n",
    "y_train, labels1 = pd.factorize(train_data['fastest'], sort=True)\n",
    "y_test, labels2 = pd.factorize(test_data['fastest'], sort=True)\n",
    "\n",
    "display(y_train[0:10])\n",
    "display(y_test[0:10])\n"
   ]
  },
  {
   "cell_type": "code",
   "execution_count": 45,
   "metadata": {},
   "outputs": [
    {
     "name": "stderr",
     "output_type": "stream",
     "text": [
      "100%|██████████| 21095/21095 [00:02<00:00, 9400.77it/s]\n"
     ]
    },
    {
     "data": {
      "text/plain": [
       "True"
      ]
     },
     "execution_count": 45,
     "metadata": {},
     "output_type": "execute_result"
    }
   ],
   "source": [
    "\n",
    "dims = 768\n",
    "trees = 10000\n",
    "\n",
    "# build ann index\n",
    "bert_t = AnnoyIndex(dims, metric='angular')\n",
    "for i in tqdm(range(bert_x_train.shape[0])):\n",
    "    file_vector = bert_x_train[i].reshape(dims,1)\n",
    "    bert_t.add_item(i, file_vector)\n",
    "bert_t.build(trees)\n",
    "bert_t.save(\"v11_bert.annoy\")"
   ]
  },
  {
   "cell_type": "code",
   "execution_count": 39,
   "metadata": {},
   "outputs": [
    {
     "name": "stderr",
     "output_type": "stream",
     "text": [
      "100%|██████████| 21095/21095 [19:03<00:00, 18.45it/s]  \n"
     ]
    },
    {
     "data": {
      "text/plain": [
       "True"
      ]
     },
     "execution_count": 39,
     "metadata": {},
     "output_type": "execute_result"
    }
   ],
   "source": [
    "dims = 376565\n",
    "trees = 10000\n",
    "\n",
    "\n",
    "# build ann index\n",
    "bow_t = AnnoyIndex(dims, metric='angular')\n",
    "for i in tqdm(range(bow_x_train.shape[0])):\n",
    "    file_vector = bow_x_train[i].reshape(dims,1)\n",
    "    bow_t.add_item(i, file_vector)\n",
    "bow_t.build(trees)\n",
    "bow_t.save(\"v11_bow.annoy\")"
   ]
  },
  {
   "cell_type": "code",
   "execution_count": 48,
   "metadata": {},
   "outputs": [
    {
     "name": "stderr",
     "output_type": "stream",
     "text": [
      "100%|██████████| 21095/21095 [00:00<00:00, 23617.99it/s]\n"
     ]
    },
    {
     "data": {
      "text/plain": [
       "True"
      ]
     },
     "execution_count": 48,
     "metadata": {},
     "output_type": "execute_result"
    }
   ],
   "source": [
    "dims = 300\n",
    "trees = 10000\n",
    "\n",
    "# build ann index\n",
    "d2v_t = AnnoyIndex(dims, metric='angular')\n",
    "for i in tqdm(range(d2v_x_train.shape[0])):\n",
    "    file_vector = d2v_x_train[i].reshape(dims,1)\n",
    "    d2v_t.add_item(i, file_vector)\n",
    "d2v_t.build(trees)\n",
    "d2v_t.save(\"v11_d2v.annoy\")"
   ]
  },
  {
   "cell_type": "code",
   "execution_count": 3,
   "metadata": {},
   "outputs": [
    {
     "name": "stderr",
     "output_type": "stream",
     "text": [
      "100%|██████████| 21095/21095 [22:40<00:00, 15.51it/s]  \n"
     ]
    },
    {
     "data": {
      "text/plain": [
       "True"
      ]
     },
     "execution_count": 3,
     "metadata": {},
     "output_type": "execute_result"
    }
   ],
   "source": [
    "dims = 376565\n",
    "trees = 10000\n",
    "\n",
    "# build ann index\n",
    "tfidf_t = AnnoyIndex(dims, metric='angular')\n",
    "for i in tqdm(range(tfidf_x_train.shape[0])):\n",
    "    file_vector = tfidf_x_train[i].reshape(dims,1)\n",
    "    tfidf_t.add_item(i, file_vector)\n",
    "tfidf_t.build(trees)\n",
    "tfidf_t.save(\"v11_tfidf.annoy\")"
   ]
  },
  {
   "cell_type": "code",
   "execution_count": 50,
   "metadata": {},
   "outputs": [
    {
     "name": "stderr",
     "output_type": "stream",
     "text": [
      "100%|██████████| 21095/21095 [00:00<00:00, 23378.89it/s]\n"
     ]
    },
    {
     "data": {
      "text/plain": [
       "True"
      ]
     },
     "execution_count": 50,
     "metadata": {},
     "output_type": "execute_result"
    }
   ],
   "source": [
    "dims = 300\n",
    "trees = 10000\n",
    "\n",
    "# build ann index\n",
    "w2v_t = AnnoyIndex(dims, metric='angular')\n",
    "for i in tqdm(range(w2v_x_train.shape[0])):\n",
    "    file_vector = w2v_x_train[i].reshape(dims,1)\n",
    "    w2v_t.add_item(i, file_vector)\n",
    "w2v_t.build(trees)\n",
    "w2v_t.save(\"v11_w2v.annoy\")"
   ]
  },
  {
   "cell_type": "code",
   "execution_count": 4,
   "metadata": {},
   "outputs": [
    {
     "data": {
      "text/plain": [
       "True"
      ]
     },
     "execution_count": 4,
     "metadata": {},
     "output_type": "execute_result"
    }
   ],
   "source": [
    "from annoy import AnnoyIndex\n",
    "\n",
    "# build ann index\n",
    "dims = 768\n",
    "bert_t = AnnoyIndex(dims, metric='angular')\n",
    "bert_t.load(\"v11_bert.annoy\")\n",
    "\n",
    "dims = 376565\n",
    "bow_t = AnnoyIndex(dims, metric='angular')\n",
    "bow_t.load(\"v11_bow.annoy\")\n",
    "\n",
    "dims = 300\n",
    "d2v_t = AnnoyIndex(dims, metric='angular')\n",
    "d2v_t.load(\"v11_d2v.annoy\")\n",
    "\n",
    "dims = 376565\n",
    "tfidf_t = AnnoyIndex(dims, metric='angular')\n",
    "tfidf_t.load(\"v11_tfidf.annoy\")\n",
    "\n",
    "dims = 300\n",
    "w2v_t = AnnoyIndex(dims, metric='angular')\n",
    "w2v_t.load(\"v11_w2v.annoy\")"
   ]
  },
  {
   "cell_type": "code",
   "execution_count": 31,
   "metadata": {},
   "outputs": [
    {
     "name": "stderr",
     "output_type": "stream",
     "text": [
      "100%|██████████| 9041/9041 [05:50<00:00, 25.83it/s]\n"
     ]
    }
   ],
   "source": [
    "import pandas as pd\n",
    "from tqdm import tqdm\n",
    "\n",
    "y_pred = []\n",
    "\n",
    "sum = 0\n",
    "tq = tqdm(range(len(bert_x_test)))\n",
    "for index in tq:\n",
    "    bert_nearest_neighbours, bert_distances = bert_t.get_nns_by_vector(bert_x_test[index], 1, include_distances=True)\n",
    "    #bow_nearest_neighbours, bow_distances = bow_t.get_nns_by_vector(bow_x_test[index], 1, include_distances=True)\n",
    "    d2v_nearest_neighbours, d2v_distances = d2v_t.get_nns_by_vector(d2v_x_test[index], 1, include_distances=True)\n",
    "    #tfidf_nearest_neighbours, tfidf_distances = tfidf_t.get_nns_by_vector(tfidf_x_test[index], 1, include_distances=True)\n",
    "    w2v_nearest_neighbours, w2v_distances = w2v_t.get_nns_by_vector(w2v_x_test[index], 1, include_distances=True)    \n",
    "\n",
    "    distances = np.array([bert_distances[0],100,d2v_distances[0],100,w2v_distances[0]])\n",
    "    min = distances.min()\n",
    "    method = np.where(distances == min)[0]\n",
    "    \n",
    "    #max_sim_id = nearest_neighbours[0]      y_train[max_sim_id]\n",
    "    y_pred.append(method)\n",
    "           "
   ]
  },
  {
   "cell_type": "code",
   "execution_count": 27,
   "metadata": {},
   "outputs": [
    {
     "data": {
      "text/plain": [
       "'Accuracy: 0.2740847251410242'"
      ]
     },
     "metadata": {},
     "output_type": "display_data"
    },
    {
     "data": {
      "image/png": "[encoded data removed]",
      "text/plain": [
       "<Figure size 1000x800 with 2 Axes>"
      ]
     },
     "metadata": {},
     "output_type": "display_data"
    }
   ],
   "source": [
    "import seaborn as sns\n",
    "import matplotlib.pyplot as plt\n",
    "\n",
    "# Plotting Confusion Matrix\n",
    "def plot_cnf_mtx(y_test, y_pred, filelabel):\n",
    "    confusion_mtx = tf.math.confusion_matrix(y_test, y_pred) \n",
    "    plt.figure(figsize=(10, 8))\n",
    "    sns.heatmap(confusion_mtx, xticklabels = filelabel, yticklabels = filelabel, annot=True, fmt = 'g')\n",
    "    plt.xlabel('Predicted Label')\n",
    "    plt.ylabel('True Label')\n",
    "    plt.show()\n",
    "from sklearn.metrics import accuracy_score\n",
    "display(\"Accuracy: \"+ str(accuracy_score(y_test,y_pred)))\n",
    "\n",
    "labels = ['bert', 'bow', 'doc2vec', 'tfidf', 'word2vec']\n",
    "plot_cnf_mtx(y_test, y_pred, labels)"
   ]
  }
 ],
 "metadata": {
  "kernelspec": {
   "display_name": "yk_code_review",
   "language": "python",
   "name": "python3"
  },
  "language_info": {
   "codemirror_mode": {
    "name": "ipython",
    "version": 3
   },
   "file_extension": ".py",
   "mimetype": "text/x-python",
   "name": "python",
   "nbconvert_exporter": "python",
   "pygments_lexer": "ipython3",
   "version": "3.10.9"
  },
  "orig_nbformat": 4,
  "vscode": {
   "interpreter": {
    "hash": "112ce86275c94deb821632ef6827abb5d945ed622abd934339e6f746d4034028"
   }
  }
 },
 "nbformat": 4,
 "nbformat_minor": 2
}
