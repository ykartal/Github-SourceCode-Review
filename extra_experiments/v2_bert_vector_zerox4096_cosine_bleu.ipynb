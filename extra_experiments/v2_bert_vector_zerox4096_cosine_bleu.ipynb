{
 "cells": [
  {
   "cell_type": "code",
   "execution_count": 7,
   "metadata": {},
   "outputs": [],
   "source": [
    "from tqdm import tqdm"
   ]
  },
  {
   "cell_type": "code",
   "execution_count": 8,
   "metadata": {},
   "outputs": [
    {
     "name": "stdout",
     "output_type": "stream",
     "text": [
      "Loading model(microsoft/unixcoder-base)...\n"
     ]
    }
   ],
   "source": [
    "from libs.feature_extraction.vectorizers import BertVectorizer\n",
    "import numpy as np\n",
    "\n",
    "bert = BertVectorizer(\"microsoft/unixcoder-base\")\n",
    "vectors = bert.load_vectors(\"data/comment_finder/vectors/bert_vectors.npy\")\n",
    "zero_vectors = np.zeros((vectors.shape[0], 4096))\n",
    "zero_vectors[:vectors.shape[0], :vectors.shape[1]] = vectors\n",
    "vectors = zero_vectors"
   ]
  },
  {
   "cell_type": "code",
   "execution_count": 10,
   "metadata": {},
   "outputs": [],
   "source": [
    "import pandas as pd\n",
    "from nltk.translate import bleu_score\n",
    "from numpy.linalg import norm\n",
    "import numpy as np\n",
    "\n",
    "df = pd.read_csv(\"./data/comment_finder/all.csv\")\n",
    "\n",
    "chencherry = bleu_score.SmoothingFunction()\n",
    "\n",
    "def getBleuScore(test_idx, match_idx):\n",
    "    ref = df.iloc[[test_idx]].to_records()[0][2]\n",
    "    hyp = df.iloc[[match_idx]].to_records()[0][2]\n",
    "    bleu_score_val = bleu_score.sentence_bleu([ref], hyp, smoothing_function=chencherry.method1)\n",
    "    return bleu_score_val\n",
    "\n",
    "\n",
    "def find_similiar(data_vector, test_id):\n",
    "\n",
    "    A = data_vector[test_id]\n",
    "\n",
    "    max_cosine = 0\n",
    "    max_sim_id=-1\n",
    "    for i, B in enumerate(data_vector):\n",
    "        cosine = np.dot(A,B)/(norm(A)*norm(B))\n",
    "        if i == test_id:\n",
    "            continue\n",
    "        if cosine>max_cosine:\n",
    "            max_sim_id = i\n",
    "            max_cosine = cosine\n",
    "    return max_sim_id, max_cosine"
   ]
  },
  {
   "cell_type": "code",
   "execution_count": 11,
   "metadata": {},
   "outputs": [
    {
     "name": "stderr",
     "output_type": "stream",
     "text": [
      "100%|██████████| 100/100 [03:14<00:00,  1.95s/it]\n"
     ]
    },
    {
     "data": {
      "text/plain": [
       "0.1258159174792227"
      ]
     },
     "metadata": {},
     "output_type": "display_data"
    }
   ],
   "source": [
    "test_df = pd.read_csv(\"./results/bert_cosine_bleu_C1_F5/fold_1.csv\")\n",
    "test_series = test_df.test_idx\n",
    "\n",
    "sum = 0\n",
    "toplam = 1000 #len(test_series)\n",
    "for index, test_idx in tqdm(enumerate(test_series), total=toplam):\n",
    "    if index > toplam-1:\n",
    "        break\n",
    "    max_sim_id, max_cosine = find_similiar(vectors, test_idx)\n",
    "    bleu_score_val = getBleuScore(test_idx,max_sim_id)\n",
    "    sum = sum + bleu_score_val\n",
    "    \n",
    "avg_bleu_score = sum / toplam\n",
    "display(avg_bleu_score)"
   ]
  }
 ],
 "metadata": {
  "kernelspec": {
   "display_name": "yk_code_review",
   "language": "python",
   "name": "python3"
  },
  "language_info": {
   "codemirror_mode": {
    "name": "ipython",
    "version": 3
   },
   "file_extension": ".py",
   "mimetype": "text/x-python",
   "name": "python",
   "nbconvert_exporter": "python",
   "pygments_lexer": "ipython3",
   "version": "3.10.9"
  },
  "orig_nbformat": 4,
  "vscode": {
   "interpreter": {
    "hash": "112ce86275c94deb821632ef6827abb5d945ed622abd934339e6f746d4034028"
   }
  }
 },
 "nbformat": 4,
 "nbformat_minor": 2
}
