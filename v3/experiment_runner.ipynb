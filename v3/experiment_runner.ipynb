{
 "cells": [
  {
   "cell_type": "code",
   "execution_count": 2,
   "metadata": {},
   "outputs": [],
   "source": [
    "import warnings\n",
    "warnings.filterwarnings(\"ignore\")\n",
    "from experiment import Experiment, ExperimentData, ExperimentParams, ExperimentEvaluation\n",
    "import pandas as pd\n",
    "import numpy as np\n",
    "import json\n",
    "from libs.metrics import text_similarities, vector_distances\n",
    "from libs.feature_extraction.vectorizers import vectorizers\n",
    "import itertools"
   ]
  },
  {
   "cell_type": "code",
   "execution_count": 9,
   "metadata": {},
   "outputs": [],
   "source": [
    "embedding_paths = json.load(open('embedding_paths.json', 'r'))\n",
    "candidate_counts = [5]\n",
    "similarity_list = list(text_similarities.keys())\n",
    "distance_list = list(vector_distances.keys())\n",
    "\n",
    "param_pairs = list(itertools.product(\n",
    "    candidate_counts, similarity_list, distance_list))\n",
    "params = []\n",
    "for vectorizer_name, vectorizer in vectorizers.items():\n",
    "    if vectorizer_name != 'bert':\n",
    "        continue\n",
    "    params.extend({'vectorizer': {\"name\": vectorizer_name, \"args\": {}},\n",
    "                   'experiment_params': {\n",
    "                        'candidate_count': param_pair[0],\n",
    "                        'text_similarity': param_pair[1],\n",
    "                        'vector_distance': param_pair[2],\n",
    "                        'embeddings_path': embedding_paths[vectorizer_name],\n",
    "                        'load_embeddings': True,\n",
    "                    }}\n",
    "                    for param_pair in param_pairs)\n"
   ]
  },
  {
   "cell_type": "markdown",
   "metadata": {},
   "source": [
    "### Args from json"
   ]
  },
  {
   "cell_type": "code",
   "execution_count": null,
   "metadata": {},
   "outputs": [],
   "source": [
    "# import json\n",
    "# import glob\n",
    "\n",
    "# E_experiment_params = glob.glob(\"./experiments/*E.json\")\n",
    "\n",
    "# params = []\n",
    "# for param in E_experiment_params:\n",
    "#     with open(param) as f:\n",
    "#         params.append(json.load(f)) "
   ]
  },
  {
   "cell_type": "code",
   "execution_count": 12,
   "metadata": {},
   "outputs": [
    {
     "name": "stdout",
     "output_type": "stream",
     "text": [
      "Running experiment:  bert_cosine_bleu_C5\n"
     ]
    },
    {
     "name": "stderr",
     "output_type": "stream",
     "text": [
      "100%|██████████| 31/31 [03:31<00:00,  6.81s/it]\n"
     ]
    },
    {
     "name": "stdout",
     "output_type": "stream",
     "text": [
      "Running experiment:  bert_euclidean_bleu_C5\n"
     ]
    },
    {
     "name": "stderr",
     "output_type": "stream",
     "text": [
      "100%|██████████| 31/31 [04:22<00:00,  8.47s/it]\n"
     ]
    },
    {
     "name": "stdout",
     "output_type": "stream",
     "text": [
      "Running experiment:  bert_manhattan_bleu_C5\n"
     ]
    },
    {
     "name": "stderr",
     "output_type": "stream",
     "text": [
      "  3%|▎         | 1/31 [01:14<37:23, 74.78s/it]"
     ]
    }
   ],
   "source": [
    "df = pd.read_csv(\"./data/comment_finder/all.csv\")\n",
    "for param in params:\n",
    "    vectorizer = vectorizers[param[\"vectorizer\"][\"name\"]](**param[\"vectorizer\"][\"args\"])\n",
    "    data = ExperimentData(df)\n",
    "    exp_params = ExperimentParams(vectorizer, **param[\"experiment_params\"])\n",
    "    exp = Experiment(data, exp_params)\n",
    "    res = exp.run()\n",
    "    exp.save_results(\"./results\")\n",
    "    evaluate = ExperimentEvaluation(exp)\n",
    "    evaluate.evaluate()\n",
    "    evaluate.save_results(\"./results\")     "
   ]
  }
 ],
 "metadata": {
  "kernelspec": {
   "display_name": "Python 3.9.1 ('env': venv)",
   "language": "python",
   "name": "python3"
  },
  "language_info": {
   "codemirror_mode": {
    "name": "ipython",
    "version": 3
   },
   "file_extension": ".py",
   "mimetype": "text/x-python",
   "name": "python",
   "nbconvert_exporter": "python",
   "pygments_lexer": "ipython3",
   "version": "3.9.1 (tags/v3.9.1:1e5d33e, Dec  7 2020, 17:08:21) [MSC v.1927 64 bit (AMD64)]"
  },
  "orig_nbformat": 4,
  "vscode": {
   "interpreter": {
    "hash": "f8cf77c51bdd57ba638a1c8caf3e4c5611a3b47850360d5dea5b65d02fac5505"
   }
  }
 },
 "nbformat": 4,
 "nbformat_minor": 2
}
