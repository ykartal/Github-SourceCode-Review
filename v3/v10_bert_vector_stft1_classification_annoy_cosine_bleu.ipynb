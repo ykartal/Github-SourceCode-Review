{
 "cells": [
  {
   "cell_type": "code",
   "execution_count": 16,
   "metadata": {},
   "outputs": [],
   "source": [
    "from tqdm import tqdm\n",
    "from keras_tqdm import TQDMNotebookCallback\n",
    "from tqdm.keras import TqdmCallback\n",
    "from libs.feature_extraction.vectorizers import BertVectorizer\n",
    "import pandas as pd\n",
    "import numpy as np\n",
    "from sklearn.model_selection import train_test_split\n",
    "from tensorflow.keras.utils import to_categorical\n",
    "\n",
    "import tensorflow as tf\n",
    "from tensorflow.keras import Input, Model\n",
    "from tensorflow.keras.layers import Dense, Flatten\n",
    "from tensorflow.keras.callbacks import EarlyStopping, ModelCheckpoint, ReduceLROnPlateau\n",
    "\n",
    "test_index = \"1\""
   ]
  },
  {
   "cell_type": "code",
   "execution_count": 25,
   "metadata": {},
   "outputs": [
    {
     "data": {
      "text/html": [
       "<div>\n",
       "<style scoped>\n",
       "    .dataframe tbody tr th:only-of-type {\n",
       "        vertical-align: middle;\n",
       "    }\n",
       "\n",
       "    .dataframe tbody tr th {\n",
       "        vertical-align: top;\n",
       "    }\n",
       "\n",
       "    .dataframe thead th {\n",
       "        text-align: right;\n",
       "    }\n",
       "</style>\n",
       "<table border=\"1\" class=\"dataframe\">\n",
       "  <thead>\n",
       "    <tr style=\"text-align: right;\">\n",
       "      <th></th>\n",
       "      <th>Unnamed: 0</th>\n",
       "      <th>index</th>\n",
       "      <th>code</th>\n",
       "      <th>comment</th>\n",
       "      <th>bert</th>\n",
       "      <th>bow</th>\n",
       "      <th>doc2vec</th>\n",
       "      <th>tfidf</th>\n",
       "      <th>word2vec</th>\n",
       "      <th>max</th>\n",
       "      <th>fastest</th>\n",
       "      <th>vector</th>\n",
       "    </tr>\n",
       "  </thead>\n",
       "  <tbody>\n",
       "    <tr>\n",
       "      <th>29110</th>\n",
       "      <td>29110</td>\n",
       "      <td>36331</td>\n",
       "      <td>public Date getCreationDate() { return creatio...</td>\n",
       "      <td>Can you return creationDate.clone since Date i...</td>\n",
       "      <td>0.1010</td>\n",
       "      <td>0.1159</td>\n",
       "      <td>0.1307</td>\n",
       "      <td>0.3645</td>\n",
       "      <td>0.1846</td>\n",
       "      <td>tfidf</td>\n",
       "      <td>tfidf</td>\n",
       "      <td>[0.6889752745628357, -0.2362436205148697, -0.2...</td>\n",
       "    </tr>\n",
       "    <tr>\n",
       "      <th>56043</th>\n",
       "      <td>56043</td>\n",
       "      <td>69976</td>\n",
       "      <td>public CreateGlusterVolumeGeoRepSessionCommand...</td>\n",
       "      <td>for create session would geoRepSessionId exist...</td>\n",
       "      <td>0.2024</td>\n",
       "      <td>0.2528</td>\n",
       "      <td>0.2024</td>\n",
       "      <td>0.2607</td>\n",
       "      <td>0.2127</td>\n",
       "      <td>tfidf</td>\n",
       "      <td>tfidf</td>\n",
       "      <td>[2.4171130657196045, 2.4713547229766846, 0.680...</td>\n",
       "    </tr>\n",
       "    <tr>\n",
       "      <th>74506</th>\n",
       "      <td>74506</td>\n",
       "      <td>93054</td>\n",
       "      <td>synchronized void onSyncReply(final String ser...</td>\n",
       "      <td>How about to check whether workersToCheck is e...</td>\n",
       "      <td>0.1534</td>\n",
       "      <td>0.1625</td>\n",
       "      <td>0.1867</td>\n",
       "      <td>0.1779</td>\n",
       "      <td>0.1644</td>\n",
       "      <td>doc2vec</td>\n",
       "      <td>doc2vec</td>\n",
       "      <td>[-2.2077674865722656, 1.886035442352295, -1.89...</td>\n",
       "    </tr>\n",
       "    <tr>\n",
       "      <th>13896</th>\n",
       "      <td>13896</td>\n",
       "      <td>17264</td>\n",
       "      <td>public boolean equals(Object obj) { if (this =...</td>\n",
       "      <td>Better use instanceof comparison.</td>\n",
       "      <td>0.3437</td>\n",
       "      <td>0.1440</td>\n",
       "      <td>0.1844</td>\n",
       "      <td>0.1844</td>\n",
       "      <td>0.1830</td>\n",
       "      <td>bert</td>\n",
       "      <td>bert</td>\n",
       "      <td>[0.5218641757965088, 0.25983256101608276, -1.3...</td>\n",
       "    </tr>\n",
       "    <tr>\n",
       "      <th>91363</th>\n",
       "      <td>91363</td>\n",
       "      <td>114147</td>\n",
       "      <td>void onPlayPause() { if(controller == null) { ...</td>\n",
       "      <td>Init should only be called one single time whe...</td>\n",
       "      <td>0.1817</td>\n",
       "      <td>0.2545</td>\n",
       "      <td>0.2032</td>\n",
       "      <td>0.2545</td>\n",
       "      <td>0.1537</td>\n",
       "      <td>bow,tfidf</td>\n",
       "      <td>tfidf</td>\n",
       "      <td>[0.5635822415351868, 0.9144441485404968, 1.139...</td>\n",
       "    </tr>\n",
       "  </tbody>\n",
       "</table>\n",
       "</div>"
      ],
      "text/plain": [
       "       Unnamed: 0   index                                               code  \\\n",
       "29110       29110   36331  public Date getCreationDate() { return creatio...   \n",
       "56043       56043   69976  public CreateGlusterVolumeGeoRepSessionCommand...   \n",
       "74506       74506   93054  synchronized void onSyncReply(final String ser...   \n",
       "13896       13896   17264  public boolean equals(Object obj) { if (this =...   \n",
       "91363       91363  114147  void onPlayPause() { if(controller == null) { ...   \n",
       "\n",
       "                                                 comment    bert     bow  \\\n",
       "29110  Can you return creationDate.clone since Date i...  0.1010  0.1159   \n",
       "56043  for create session would geoRepSessionId exist...  0.2024  0.2528   \n",
       "74506  How about to check whether workersToCheck is e...  0.1534  0.1625   \n",
       "13896                  Better use instanceof comparison.  0.3437  0.1440   \n",
       "91363  Init should only be called one single time whe...  0.1817  0.2545   \n",
       "\n",
       "       doc2vec   tfidf  word2vec        max  fastest  \\\n",
       "29110   0.1307  0.3645    0.1846      tfidf    tfidf   \n",
       "56043   0.2024  0.2607    0.2127      tfidf    tfidf   \n",
       "74506   0.1867  0.1779    0.1644    doc2vec  doc2vec   \n",
       "13896   0.1844  0.1844    0.1830       bert     bert   \n",
       "91363   0.2032  0.2545    0.1537  bow,tfidf    tfidf   \n",
       "\n",
       "                                                  vector  \n",
       "29110  [0.6889752745628357, -0.2362436205148697, -0.2...  \n",
       "56043  [2.4171130657196045, 2.4713547229766846, 0.680...  \n",
       "74506  [-2.2077674865722656, 1.886035442352295, -1.89...  \n",
       "13896  [0.5218641757965088, 0.25983256101608276, -1.3...  \n",
       "91363  [0.5635822415351868, 0.9144441485404968, 1.139...  "
      ]
     },
     "metadata": {},
     "output_type": "display_data"
    },
    {
     "data": {
      "text/plain": [
       "array([[ 1.90318477,  0.50331217, -0.3303802 , ...,  0.03001881,\n",
       "        -1.80607843,  1.24600744],\n",
       "       [ 0.25894779,  0.59880275,  0.15075082, ...,  2.13507771,\n",
       "        -0.25691405, -0.49133706]])"
      ]
     },
     "metadata": {},
     "output_type": "display_data"
    },
    {
     "data": {
      "text/plain": [
       "array([[0., 0., 0., 0., 1.],\n",
       "       [0., 0., 0., 0., 1.],\n",
       "       [1., 0., 0., 0., 0.],\n",
       "       [0., 0., 0., 0., 1.],\n",
       "       [1., 0., 0., 0., 0.],\n",
       "       [0., 0., 1., 0., 0.],\n",
       "       [0., 0., 0., 0., 1.],\n",
       "       [0., 0., 1., 0., 0.],\n",
       "       [1., 0., 0., 0., 0.],\n",
       "       [0., 0., 0., 0., 1.]], dtype=float32)"
      ]
     },
     "metadata": {},
     "output_type": "display_data"
    },
    {
     "data": {
      "text/plain": [
       "(30136, 768)"
      ]
     },
     "metadata": {},
     "output_type": "display_data"
    },
    {
     "data": {
      "text/plain": [
       "(30136, 5)"
      ]
     },
     "metadata": {},
     "output_type": "display_data"
    }
   ],
   "source": [
    "train_df = pd.read_csv('./train-test-data/fold'+test_index+'/train_data.csv')\n",
    "test_df = pd.read_csv('./train-test-data/fold'+test_index+'/test_data.csv')\n",
    "train_df['vector'] = np.load('./train-test-data/fold'+test_index+'/train_vectors.npy').tolist()\n",
    "test_df['vector'] = np.load('./train-test-data/fold'+test_index+'/test_vectors.npy').tolist()\n",
    "train_data, val_data = train_test_split(train_df, test_size=0.25, random_state=42)\n",
    "display(train_data.head())\n",
    "x_train = np.array([np.array(xi) for xi in train_data['vector']])\n",
    "y_train = to_categorical(pd.factorize(train_data['fastest'], sort=True)[0])\n",
    "x_val = np.array([np.array(xi) for xi in val_data['vector']])\n",
    "y_val = to_categorical(pd.factorize(val_data['fastest'], sort=True)[0])\n",
    "x_test = np.array([np.array(xi) for xi in test_df['vector']])\n",
    "y_test = to_categorical(pd.factorize(test_df['fastest'], sort=True)[0])\n",
    "y_test_conf = pd.factorize(test_df['fastest'], sort=True)[0]\n",
    "\n",
    "display(x_test[0:2])\n",
    "display(y_test[0:10])\n",
    "display(x_test.shape, y_test.shape)\n"
   ]
  },
  {
   "cell_type": "code",
   "execution_count": 26,
   "metadata": {},
   "outputs": [],
   "source": [
    "inputs = Input((768,1))\n",
    "\n",
    "x = Flatten()(inputs)\n",
    "x = Dense(128, activation='relu')(x)\n",
    "x = Dense(128, activation='relu')(x)\n",
    "outputs = Dense(5, activation='softmax')(x)\n",
    "\n",
    "model = Model(inputs, outputs)\n",
    "model.compile(loss='categorical_crossentropy', optimizer='adam', metrics=['accuracy'])"
   ]
  },
  {
   "cell_type": "code",
   "execution_count": 27,
   "metadata": {},
   "outputs": [
    {
     "data": {
      "application/vnd.jupyter.widget-view+json": {
       "model_id": "fdd199beff5b4e57a54f87dd570011a1",
       "version_major": 2,
       "version_minor": 0
      },
      "text/plain": [
       "0epoch [00:00, ?epoch/s]"
      ]
     },
     "metadata": {},
     "output_type": "display_data"
    },
    {
     "data": {
      "application/vnd.jupyter.widget-view+json": {
       "model_id": "d901dc6a1f4b404f947f5bdbb9f0b728",
       "version_major": 2,
       "version_minor": 0
      },
      "text/plain": [
       "  0%|          | 0.00/707 [00:00<?, ?batch/s]"
      ]
     },
     "metadata": {},
     "output_type": "display_data"
    },
    {
     "name": "stdout",
     "output_type": "stream",
     "text": [
      "\n",
      "Epoch 1: val_loss improved from inf to 1.57000, saving model to check_point.h5\n"
     ]
    },
    {
     "data": {
      "application/vnd.jupyter.widget-view+json": {
       "model_id": "402a893a9db64951ad1e468976dbc4b7",
       "version_major": 2,
       "version_minor": 0
      },
      "text/plain": [
       "  0%|          | 0.00/707 [00:00<?, ?batch/s]"
      ]
     },
     "metadata": {},
     "output_type": "display_data"
    },
    {
     "name": "stdout",
     "output_type": "stream",
     "text": [
      "\n",
      "Epoch 2: val_loss did not improve from 1.57000\n"
     ]
    },
    {
     "data": {
      "application/vnd.jupyter.widget-view+json": {
       "model_id": "e57407a377a34a959dbe14f1d918d1ed",
       "version_major": 2,
       "version_minor": 0
      },
      "text/plain": [
       "  0%|          | 0.00/707 [00:00<?, ?batch/s]"
      ]
     },
     "metadata": {},
     "output_type": "display_data"
    },
    {
     "name": "stdout",
     "output_type": "stream",
     "text": [
      "\n",
      "Epoch 3: val_loss did not improve from 1.57000\n"
     ]
    },
    {
     "data": {
      "application/vnd.jupyter.widget-view+json": {
       "model_id": "207acf506ff24a9b98b09367840c504a",
       "version_major": 2,
       "version_minor": 0
      },
      "text/plain": [
       "  0%|          | 0.00/707 [00:00<?, ?batch/s]"
      ]
     },
     "metadata": {},
     "output_type": "display_data"
    },
    {
     "name": "stdout",
     "output_type": "stream",
     "text": [
      "\n",
      "Epoch 4: ReduceLROnPlateau reducing learning rate to 0.00010000000474974513.\n",
      "\n",
      "Epoch 4: val_loss did not improve from 1.57000\n"
     ]
    },
    {
     "data": {
      "application/vnd.jupyter.widget-view+json": {
       "model_id": "90b209c8d28844fd889c3fdb6c4193d0",
       "version_major": 2,
       "version_minor": 0
      },
      "text/plain": [
       "  0%|          | 0.00/707 [00:00<?, ?batch/s]"
      ]
     },
     "metadata": {},
     "output_type": "display_data"
    },
    {
     "name": "stdout",
     "output_type": "stream",
     "text": [
      "\n",
      "Epoch 5: val_loss did not improve from 1.57000\n",
      "Model: \"model_3\"\n",
      "_________________________________________________________________\n",
      " Layer (type)                Output Shape              Param #   \n",
      "=================================================================\n",
      " input_4 (InputLayer)        [(None, 768, 1)]          0         \n",
      "                                                                 \n",
      " flatten_3 (Flatten)         (None, 768)               0         \n",
      "                                                                 \n",
      " dense_9 (Dense)             (None, 128)               98432     \n",
      "                                                                 \n",
      " dense_10 (Dense)            (None, 128)               16512     \n",
      "                                                                 \n",
      " dense_11 (Dense)            (None, 5)                 645       \n",
      "                                                                 \n",
      "=================================================================\n",
      "Total params: 115,589\n",
      "Trainable params: 115,589\n",
      "Non-trainable params: 0\n",
      "_________________________________________________________________\n"
     ]
    }
   ],
   "source": [
    "callbacks = [  \n",
    "    EarlyStopping(patience=10, verbose=1),\n",
    "    ReduceLROnPlateau(factor=0.1, patience=3, min_lr=0.00001, verbose=1),\n",
    "    ModelCheckpoint('check_point.h5', verbose=1, save_best_only=True, save_weights_only=True),\n",
    "    TqdmCallback(verbose=2)\n",
    "]\n",
    "   \n",
    "history = model.fit(x = x_train,\n",
    "        y = y_train,\n",
    "        validation_data = (x_val, y_val),\n",
    "        epochs = 5,\n",
    "        batch_size = 128,\n",
    "        verbose = 0,\n",
    "        callbacks=callbacks)\n",
    "\n",
    "model.summary()"
   ]
  },
  {
   "cell_type": "code",
   "execution_count": 31,
   "metadata": {},
   "outputs": [
    {
     "name": "stdout",
     "output_type": "stream",
     "text": [
      "942/942 - 1s - loss: 1.6414 - accuracy: 0.2548 - 1s/epoch - 1ms/step\n",
      "942/942 [==============================] - 1s 1ms/step\n",
      "\n",
      "Testing Accuracy: 0.25484469532966614\n"
     ]
    },
    {
     "data": {
      "image/png": "[encoded data removed]",
      "text/plain": [
       "<Figure size 640x480 with 1 Axes>"
      ]
     },
     "metadata": {},
     "output_type": "display_data"
    },
    {
     "data": {
      "image/png": "[encoded data removed]",
      "text/plain": [
       "<Figure size 1000x800 with 2 Axes>"
      ]
     },
     "metadata": {},
     "output_type": "display_data"
    }
   ],
   "source": [
    "import seaborn as sns\n",
    "import matplotlib.pyplot as plt\n",
    "\n",
    "# Plot for Train and Validation Accuracy\n",
    "def plot_train_val_acc(history):\n",
    "    plt.plot(history.history['accuracy'], label='accuracy')\n",
    "    plt.plot(history.history['val_accuracy'], label = 'val_accuracy')\n",
    "    plt.xlabel('Epoch')\n",
    "    plt.ylabel('Accuracy')\n",
    "    plt.ylim([0, 1.025])\n",
    "    plt.legend(loc='lower right')\n",
    "    plt.show()\n",
    "\n",
    "# Plotting Confusion Matrix\n",
    "def plot_cnf_mtx(y_test, y_pred, filelabel):\n",
    "    confusion_mtx = tf.math.confusion_matrix(y_test, y_pred) \n",
    "    plt.figure(figsize=(10, 8))\n",
    "    sns.heatmap(confusion_mtx, xticklabels = filelabel, yticklabels = filelabel, annot=True, fmt = 'g')\n",
    "    plt.xlabel('Predicted Label')\n",
    "    plt.ylabel('True Label')\n",
    "    plt.show()\n",
    "\n",
    " # Testing with Test Set\n",
    "test_loss, test_acc = model.evaluate(x_test, y_test, verbose = 2)\n",
    "y_pred = np.argmax(model.predict(x_test), axis = 1)\n",
    "print(\"\\nTesting Accuracy:\", test_acc)\n",
    "\n",
    "# Plotting Accuracy-Epoch Graph and Confusion Matrix\n",
    "plot_train_val_acc(history)\n",
    "labels = ['bert', 'bow', 'doc2vec', 'tfidf', 'word2vec']\n",
    "plot_cnf_mtx(y_test_conf, y_pred, labels)"
   ]
  }
 ],
 "metadata": {
  "kernelspec": {
   "display_name": "yk_code_review",
   "language": "python",
   "name": "python3"
  },
  "language_info": {
   "codemirror_mode": {
    "name": "ipython",
    "version": 3
   },
   "file_extension": ".py",
   "mimetype": "text/x-python",
   "name": "python",
   "nbconvert_exporter": "python",
   "pygments_lexer": "ipython3",
   "version": "3.10.9"
  },
  "orig_nbformat": 4,
  "vscode": {
   "interpreter": {
    "hash": "112ce86275c94deb821632ef6827abb5d945ed622abd934339e6f746d4034028"
   }
  }
 },
 "nbformat": 4,
 "nbformat_minor": 2
}
