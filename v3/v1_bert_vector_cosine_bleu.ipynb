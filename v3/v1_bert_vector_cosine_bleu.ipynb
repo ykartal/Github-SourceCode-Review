{
 "cells": [
  {
   "cell_type": "code",
   "execution_count": 1,
   "metadata": {},
   "outputs": [],
   "source": [
    "from tqdm import tqdm"
   ]
  },
  {
   "cell_type": "code",
   "execution_count": 2,
   "metadata": {},
   "outputs": [
    {
     "name": "stdout",
     "output_type": "stream",
     "text": [
      "Loading model(microsoft/unixcoder-base)...\n"
     ]
    }
   ],
   "source": [
    "from libs.feature_extraction.vectorizers import BertVectorizer\n",
    "bert = BertVectorizer(\"microsoft/unixcoder-base\")\n",
    "vectors = bert.load_vectors(\"data/comment_finder/vectors/bert_vectors.npy\")   "
   ]
  },
  {
   "cell_type": "code",
   "execution_count": 3,
   "metadata": {},
   "outputs": [],
   "source": [
    "import pandas as pd\n",
    "from nltk.translate import bleu_score\n",
    "from numpy.linalg import norm\n",
    "import numpy as np\n",
    "\n",
    "df = pd.read_csv(\"./data/comment_finder/all.csv\")\n",
    "\n",
    "chencherry = bleu_score.SmoothingFunction()\n",
    "\n",
    "def getBleuScore(test_idx, match_idx):\n",
    "    ref = df.iloc[[test_idx]].to_records()[0][2]\n",
    "    hyp = df.iloc[[match_idx]].to_records()[0][2]\n",
    "    bleu_score_val = bleu_score.sentence_bleu([ref], hyp, smoothing_function=chencherry.method1)\n",
    "    return bleu_score_val\n",
    "\n",
    "\n",
    "def find_similiar(data_vector, test_id):\n",
    "\n",
    "    A = data_vector[test_id]\n",
    "\n",
    "    max_cosine = 0\n",
    "    max_sim_id=-1\n",
    "    for i, B in enumerate(data_vector):\n",
    "        cosine = np.dot(A,B)/(norm(A)*norm(B))\n",
    "        if i == test_id:\n",
    "            continue\n",
    "        if cosine>max_cosine:\n",
    "            max_sim_id = i\n",
    "            max_cosine = cosine\n",
    "    return max_sim_id, max_cosine"
   ]
  },
  {
   "cell_type": "code",
   "execution_count": 6,
   "metadata": {},
   "outputs": [
    {
     "name": "stderr",
     "output_type": "stream",
     "text": [
      "100%|██████████| 150677/150677 [00:22<00:00, 6691.36it/s]\n"
     ]
    },
    {
     "data": {
      "text/plain": [
       "True"
      ]
     },
     "execution_count": 6,
     "metadata": {},
     "output_type": "execute_result"
    }
   ],
   "source": [
    "from annoy import AnnoyIndex\n",
    "\n",
    "dims = 768\n",
    "trees = 10000\n",
    "file_index_to_file_vector = {}\n",
    "\n",
    "# build ann index\n",
    "t = AnnoyIndex(dims, metric='angular')\n",
    "for i in tqdm(range(vectors.shape[0])):\n",
    "    file_vector = vectors[i].reshape(768,1)\n",
    "    file_index_to_file_vector[i] = file_vector\n",
    "    t.add_item(i, file_vector)\n",
    "t.build(trees)\n",
    "t.save(\"v1.annoy\")"
   ]
  },
  {
   "cell_type": "code",
   "execution_count": 4,
   "metadata": {},
   "outputs": [
    {
     "data": {
      "text/plain": [
       "True"
      ]
     },
     "execution_count": 4,
     "metadata": {},
     "output_type": "execute_result"
    }
   ],
   "source": [
    "from annoy import AnnoyIndex\n",
    "\n",
    "dims = 768\n",
    "trees = 10000\n",
    "file_index_to_file_vector = {}\n",
    "\n",
    "# build ann index\n",
    "t = AnnoyIndex(dims, metric='angular')\n",
    "t.load(\"v1.annoy\")"
   ]
  },
  {
   "cell_type": "code",
   "execution_count": 8,
   "metadata": {},
   "outputs": [
    {
     "name": "stderr",
     "output_type": "stream",
     "text": [
      "100%|██████████| 1000/1000 [00:46<00:00, 21.57it/s]\n"
     ]
    },
    {
     "data": {
      "text/plain": [
       "0.13481056056337995"
      ]
     },
     "metadata": {},
     "output_type": "display_data"
    }
   ],
   "source": [
    "test_df = pd.read_csv(\"./results/bert_cosine_bleu_C1_F5/fold_1.csv\")\n",
    "test_series = test_df.test_idx\n",
    "\n",
    "sum = 0\n",
    "toplam = 1000 #len(test_series)\n",
    "for index, test_idx in tqdm(enumerate(test_series), total=toplam):\n",
    "    if index > toplam-1:\n",
    "        break\n",
    "    nearest_neighbours = t.get_nns_by_vector(vectors[test_idx], 2)\n",
    "    max_sim_id = nearest_neighbours[1]\n",
    "    bleu_score_val = getBleuScore(test_idx,max_sim_id)\n",
    "    sum = sum + bleu_score_val\n",
    "    \n",
    "avg_bleu_score = sum / toplam\n",
    "display(avg_bleu_score)"
   ]
  },
  {
   "cell_type": "code",
   "execution_count": 4,
   "metadata": {},
   "outputs": [
    {
     "name": "stderr",
     "output_type": "stream",
     "text": [
      "100%|██████████| 1000/1000 [21:22<00:00,  1.28s/it]\n"
     ]
    },
    {
     "data": {
      "text/plain": [
       "0.1349337927608504"
      ]
     },
     "metadata": {},
     "output_type": "display_data"
    }
   ],
   "source": [
    "test_df = pd.read_csv(\"./results/bert_cosine_bleu_C1_F5/fold_1.csv\")\n",
    "test_series = test_df.test_idx\n",
    "\n",
    "sum = 0\n",
    "toplam = 1000 #len(test_series)\n",
    "for index, test_idx in tqdm(enumerate(test_series), total=toplam):\n",
    "    if index > toplam-1:\n",
    "        break\n",
    "    max_sim_id, max_cosine = find_similiar(vectors, test_idx)\n",
    "    bleu_score_val = getBleuScore(test_idx,max_sim_id)\n",
    "    sum = sum + bleu_score_val\n",
    "    \n",
    "avg_bleu_score = sum / toplam\n",
    "display(avg_bleu_score)"
   ]
  }
 ],
 "metadata": {
  "kernelspec": {
   "display_name": "yk_code_review",
   "language": "python",
   "name": "python3"
  },
  "language_info": {
   "codemirror_mode": {
    "name": "ipython",
    "version": 3
   },
   "file_extension": ".py",
   "mimetype": "text/x-python",
   "name": "python",
   "nbconvert_exporter": "python",
   "pygments_lexer": "ipython3",
   "version": "3.10.9"
  },
  "orig_nbformat": 4,
  "vscode": {
   "interpreter": {
    "hash": "112ce86275c94deb821632ef6827abb5d945ed622abd934339e6f746d4034028"
   }
  }
 },
 "nbformat": 4,
 "nbformat_minor": 2
}
