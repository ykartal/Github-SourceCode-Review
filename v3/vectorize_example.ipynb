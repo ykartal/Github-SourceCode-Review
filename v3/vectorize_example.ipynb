{
 "cells": [
  {
   "cell_type": "code",
   "execution_count": 17,
   "metadata": {},
   "outputs": [],
   "source": [
    "import pandas as pd\n",
    "from libs.feature_extraction.vectorizers import TfIdfVectorizer, BowVectorizer, BertVectorizer, Doc2VecVectorizer, Word2VecMeanVectorizer\n",
    "import numpy as np\n",
    "import json\n",
    "import javalang"
   ]
  },
  {
   "cell_type": "code",
   "execution_count": 2,
   "metadata": {},
   "outputs": [],
   "source": [
    "# paths = json.loads(open('embedding_paths.json').read())"
   ]
  },
  {
   "cell_type": "code",
   "execution_count": 8,
   "metadata": {},
   "outputs": [],
   "source": [
    "tf_idf = TfIdfVectorizer(\"./model/tfidf_vectorizer.pkl\")\n",
    "bow = BowVectorizer(\"./model/tfidf_vectorizer.pkl\")\n",
    "d2v = Doc2VecVectorizer(\"./model/d2v/d2v.model\")\n",
    "w2v = Word2VecMeanVectorizer(\"./model/w2v/w2v.model\")\n",
    "bert = BertVectorizer(\"microsoft/unixcoder-base\")"
   ]
  },
  {
   "cell_type": "code",
   "execution_count": 18,
   "metadata": {},
   "outputs": [],
   "source": [
    "code = \"System.out.println(\\\"Hello World!\\\")\"\n",
    "tokens = [token.value for token in javalang.tokenizer.tokenize(code)]"
   ]
  },
  {
   "cell_type": "code",
   "execution_count": 44,
   "metadata": {},
   "outputs": [
    {
     "name": "stderr",
     "output_type": "stream",
     "text": [
      "100%|██████████| 1/1 [00:00<00:00, 280.20it/s]\n",
      "100%|██████████| 1/1 [00:00<?, ?it/s]\n"
     ]
    },
    {
     "name": "stdout",
     "output_type": "stream",
     "text": [
      "Tokenizing...\n"
     ]
    },
    {
     "name": "stderr",
     "output_type": "stream",
     "text": [
      "100%|██████████| 1/1 [00:00<?, ?it/s]\n",
      "100%|██████████| 1/1 [00:00<00:00,  5.09it/s]\n"
     ]
    }
   ],
   "source": [
    "tf_idf_vec = tf_idf.transform([code])\n",
    "bow_vec = bow.transform([code])\n",
    "d2v_vec = d2v.transform([tokens])\n",
    "w2v_vec = w2v.transform([tokens])\n",
    "bert_vec = bert.transform([code])"
   ]
  },
  {
   "cell_type": "code",
   "execution_count": 50,
   "metadata": {},
   "outputs": [],
   "source": [
    "np.savetxt(\"tf_idf_vec.txt\", tf_idf_vec.toarray())\n",
    "np.savetxt(\"bow_vec.txt\", bow_vec.toarray())\n",
    "np.savetxt(\"d2v_vec.txt\", d2v_vec)\n",
    "np.savetxt(\"w2v_vec.txt\", w2v_vec)\n",
    "np.savetxt(\"bert_vec.txt\", bert_vec)\n"
   ]
  }
 ],
 "metadata": {
  "kernelspec": {
   "display_name": "Python 3.9.12 ('env': venv)",
   "language": "python",
   "name": "python3"
  },
  "language_info": {
   "codemirror_mode": {
    "name": "ipython",
    "version": 3
   },
   "file_extension": ".py",
   "mimetype": "text/x-python",
   "name": "python",
   "nbconvert_exporter": "python",
   "pygments_lexer": "ipython3",
   "version": "3.9.1 (tags/v3.9.1:1e5d33e, Dec  7 2020, 17:08:21) [MSC v.1927 64 bit (AMD64)]"
  },
  "orig_nbformat": 4,
  "vscode": {
   "interpreter": {
    "hash": "f8cf77c51bdd57ba638a1c8caf3e4c5611a3b47850360d5dea5b65d02fac5505"
   }
  }
 },
 "nbformat": 4,
 "nbformat_minor": 2
}
