{
 "cells": [
  {
   "cell_type": "code",
   "execution_count": 1,
   "metadata": {},
   "outputs": [],
   "source": [
    "from tqdm import tqdm"
   ]
  },
  {
   "cell_type": "code",
   "execution_count": 2,
   "metadata": {},
   "outputs": [
    {
     "name": "stderr",
     "output_type": "stream",
     "text": [
      "2023-02-15 17:47:39.428949: I tensorflow/core/platform/cpu_feature_guard.cc:193] This TensorFlow binary is optimized with oneAPI Deep Neural Network Library (oneDNN) to use the following CPU instructions in performance-critical operations:  AVX2 FMA\n",
      "To enable them in other operations, rebuild TensorFlow with the appropriate compiler flags.\n",
      "2023-02-15 17:47:39.574897: W tensorflow/compiler/xla/stream_executor/platform/default/dso_loader.cc:64] Could not load dynamic library 'libcudart.so.11.0'; dlerror: libcudart.so.11.0: cannot open shared object file: No such file or directory; LD_LIBRARY_PATH: /usr/local/cuda-10.1/lib64:\n",
      "2023-02-15 17:47:39.574931: I tensorflow/compiler/xla/stream_executor/cuda/cudart_stub.cc:29] Ignore above cudart dlerror if you do not have a GPU set up on your machine.\n",
      "2023-02-15 17:47:40.245380: W tensorflow/compiler/xla/stream_executor/platform/default/dso_loader.cc:64] Could not load dynamic library 'libnvinfer.so.7'; dlerror: libnvinfer.so.7: cannot open shared object file: No such file or directory; LD_LIBRARY_PATH: /usr/local/cuda-10.1/lib64:\n",
      "2023-02-15 17:47:40.245470: W tensorflow/compiler/xla/stream_executor/platform/default/dso_loader.cc:64] Could not load dynamic library 'libnvinfer_plugin.so.7'; dlerror: libnvinfer_plugin.so.7: cannot open shared object file: No such file or directory; LD_LIBRARY_PATH: /usr/local/cuda-10.1/lib64:\n",
      "2023-02-15 17:47:40.245478: W tensorflow/compiler/tf2tensorrt/utils/py_utils.cc:38] TF-TRT Warning: Cannot dlopen some TensorRT libraries. If you would like to use Nvidia GPU with TensorRT, please make sure the missing libraries mentioned above are installed properly.\n"
     ]
    },
    {
     "name": "stdout",
     "output_type": "stream",
     "text": [
      "Loading model(microsoft/unixcoder-base)...\n"
     ]
    },
    {
     "name": "stderr",
     "output_type": "stream",
     "text": [
      "  0%|          | 0/150677 [00:00<?, ?it/s]2023-02-15 17:47:46.002983: W tensorflow/compiler/xla/stream_executor/platform/default/dso_loader.cc:64] Could not load dynamic library 'libcudart.so.11.0'; dlerror: libcudart.so.11.0: cannot open shared object file: No such file or directory; LD_LIBRARY_PATH: /usr/local/cuda-10.1/lib64:\n",
      "2023-02-15 17:47:46.003079: W tensorflow/compiler/xla/stream_executor/platform/default/dso_loader.cc:64] Could not load dynamic library 'libcublas.so.11'; dlerror: libcublas.so.11: cannot open shared object file: No such file or directory; LD_LIBRARY_PATH: /usr/local/cuda-10.1/lib64:\n",
      "2023-02-15 17:47:46.003145: W tensorflow/compiler/xla/stream_executor/platform/default/dso_loader.cc:64] Could not load dynamic library 'libcublasLt.so.11'; dlerror: libcublasLt.so.11: cannot open shared object file: No such file or directory; LD_LIBRARY_PATH: /usr/local/cuda-10.1/lib64:\n",
      "2023-02-15 17:47:46.004762: W tensorflow/compiler/xla/stream_executor/platform/default/dso_loader.cc:64] Could not load dynamic library 'libcusolver.so.11'; dlerror: libcusolver.so.11: cannot open shared object file: No such file or directory; LD_LIBRARY_PATH: /usr/local/cuda-10.1/lib64:\n",
      "2023-02-15 17:47:46.004831: W tensorflow/compiler/xla/stream_executor/platform/default/dso_loader.cc:64] Could not load dynamic library 'libcusparse.so.11'; dlerror: libcusparse.so.11: cannot open shared object file: No such file or directory; LD_LIBRARY_PATH: /usr/local/cuda-10.1/lib64:\n",
      "2023-02-15 17:47:46.004894: W tensorflow/compiler/xla/stream_executor/platform/default/dso_loader.cc:64] Could not load dynamic library 'libcudnn.so.8'; dlerror: libcudnn.so.8: cannot open shared object file: No such file or directory; LD_LIBRARY_PATH: /usr/local/cuda-10.1/lib64:\n",
      "2023-02-15 17:47:46.004910: W tensorflow/core/common_runtime/gpu/gpu_device.cc:1934] Cannot dlopen some GPU libraries. Please make sure the missing libraries mentioned above are installed properly if you would like to use GPU. Follow the guide at https://www.tensorflow.org/install/gpu for how to download and setup the required libraries for your platform.\n",
      "Skipping registering GPU devices...\n",
      "2023-02-15 17:47:46.005559: I tensorflow/core/platform/cpu_feature_guard.cc:193] This TensorFlow binary is optimized with oneAPI Deep Neural Network Library (oneDNN) to use the following CPU instructions in performance-critical operations:  AVX2 FMA\n",
      "To enable them in other operations, rebuild TensorFlow with the appropriate compiler flags.\n",
      "100%|██████████| 150677/150677 [01:47<00:00, 1396.67it/s]\n"
     ]
    },
    {
     "data": {
      "text/plain": [
       "(9643328, 64)"
      ]
     },
     "metadata": {},
     "output_type": "display_data"
    },
    {
     "data": {
      "text/plain": [
       "(150677, 4096)"
      ]
     },
     "metadata": {},
     "output_type": "display_data"
    }
   ],
   "source": [
    "from libs.feature_extraction.vectorizers import BertVectorizer\n",
    "import numpy as np\n",
    "from scipy.signal import stft\n",
    "import tensorflow as tf\n",
    "\n",
    "bert = BertVectorizer(\"microsoft/unixcoder-base\")\n",
    "vectors = bert.load_vectors(\"data/comment_finder/vectors/bert_vectors.npy\")\n",
    "\n",
    "stft_list=[]\n",
    "\n",
    "for index, vector in tqdm(enumerate(vectors), total=len(vectors)):\n",
    "    f, t, Zxx_db = stft(vector, fs = 128, nperseg = 128, noverlap = 116, nfft = 128)\n",
    "    Zxx_db = tf.abs(Zxx_db)\n",
    "    Zxx_db = Zxx_db[:64,:64]\n",
    "    stft_list.append(Zxx_db)\n",
    "    \n",
    "stft_list = np.concatenate(stft_list)\n",
    "display(stft_list.shape)\n",
    "vectors = stft_list.reshape(stft_list.shape[0]//64, 4096)\n",
    "display(vectors.shape)"
   ]
  },
  {
   "cell_type": "code",
   "execution_count": 3,
   "metadata": {},
   "outputs": [],
   "source": [
    "import pandas as pd\n",
    "from nltk.translate import bleu_score\n",
    "from numpy.linalg import norm\n",
    "import numpy as np\n",
    "\n",
    "df = pd.read_csv(\"./data/comment_finder/all.csv\")\n",
    "\n",
    "chencherry = bleu_score.SmoothingFunction()\n",
    "\n",
    "def getBleuScore(test_idx, match_idx):\n",
    "    ref = df.iloc[[test_idx]].to_records()[0][2]\n",
    "    hyp = df.iloc[[match_idx]].to_records()[0][2]\n",
    "    bleu_score_val = bleu_score.sentence_bleu([ref], hyp, smoothing_function=chencherry.method1)\n",
    "    return bleu_score_val\n",
    "\n",
    "\n",
    "def find_similiar(data_vector, test_id):\n",
    "\n",
    "    A = data_vector[test_id]\n",
    "\n",
    "    max_cosine = 0\n",
    "    max_sim_id=-1\n",
    "    for i, B in enumerate(data_vector):\n",
    "        cosine = np.dot(A,B)/(norm(A)*norm(B))\n",
    "        if i == test_id:\n",
    "            continue\n",
    "        if cosine>max_cosine:\n",
    "            max_sim_id = i\n",
    "            max_cosine = cosine\n",
    "    return max_sim_id, max_cosine"
   ]
  },
  {
   "cell_type": "code",
   "execution_count": 4,
   "metadata": {},
   "outputs": [
    {
     "name": "stderr",
     "output_type": "stream",
     "text": [
      "100%|██████████| 1000/1000 [26:13<00:00,  1.57s/it]\n"
     ]
    },
    {
     "data": {
      "text/plain": [
       "0.13768160258768442"
      ]
     },
     "metadata": {},
     "output_type": "display_data"
    }
   ],
   "source": [
    "test_df = pd.read_csv(\"./results/bert_cosine_bleu_C1_F5/fold_1.csv\")\n",
    "test_series = test_df.test_idx\n",
    "\n",
    "sum = 0\n",
    "toplam = 1000 #len(test_series)\n",
    "for index, test_idx in tqdm(enumerate(test_series), total=toplam):\n",
    "    if index > toplam-1:\n",
    "        break\n",
    "    max_sim_id, max_cosine = find_similiar(vectors, test_idx)\n",
    "    bleu_score_val = getBleuScore(test_idx,max_sim_id)\n",
    "    sum = sum + bleu_score_val\n",
    "    \n",
    "avg_bleu_score = sum / toplam\n",
    "display(avg_bleu_score)"
   ]
  }
 ],
 "metadata": {
  "kernelspec": {
   "display_name": "yk_code_review",
   "language": "python",
   "name": "python3"
  },
  "language_info": {
   "codemirror_mode": {
    "name": "ipython",
    "version": 3
   },
   "file_extension": ".py",
   "mimetype": "text/x-python",
   "name": "python",
   "nbconvert_exporter": "python",
   "pygments_lexer": "ipython3",
   "version": "3.10.9"
  },
  "orig_nbformat": 4,
  "vscode": {
   "interpreter": {
    "hash": "112ce86275c94deb821632ef6827abb5d945ed622abd934339e6f746d4034028"
   }
  }
 },
 "nbformat": 4,
 "nbformat_minor": 2
}
