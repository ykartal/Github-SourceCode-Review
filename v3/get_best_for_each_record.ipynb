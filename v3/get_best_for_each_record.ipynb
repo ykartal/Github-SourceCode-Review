{
 "cells": [
  {
   "cell_type": "code",
   "execution_count": 1,
   "metadata": {},
   "outputs": [],
   "source": [
    "import glob\n",
    "import os\n",
    "import pandas as pd\n",
    "import numpy as np"
   ]
  },
  {
   "cell_type": "code",
   "execution_count": 7,
   "metadata": {},
   "outputs": [],
   "source": [
    "import itertools\n",
    "metrics = [\"bleu\", \"meteor\", \"rouge\"]\n",
    "candidates = [1,3,5,10]\n",
    "distances = [\"cosine\", \"euclidean\", \"manhattan\"]\n",
    "\n",
    "combinations = [\n",
    "    f\"**{distance}_{metric}_C{candidate}_**\"\n",
    "    for candidate, distance, metric in itertools.product(\n",
    "        candidates, distances, metrics\n",
    "    )\n",
    "    if candidate == 10\n",
    "    or metric != \"meteor\"\n",
    "    and metric != \"rouge\"\n",
    "    and distance != \"manhattan\"\n",
    "    and distance != \"euclidean\"\n",
    "]\n"
   ]
  },
  {
   "cell_type": "code",
   "execution_count": 3,
   "metadata": {},
   "outputs": [],
   "source": [
    "def read_csv_files_and_merge(path, csv_files, vectorizer, metric_col):\n",
    "    dataframes = []\n",
    "    recommended_idx_dfs = []\n",
    "    for csv_file in csv_files:\n",
    "        df = pd.read_csv(os.path.join(path, csv_file), index_col=\"test_idx\")\n",
    "        metric_df = df[[metric_col]]\n",
    "        recommended_idx_df = df[[\"recommended_idx\"]]\n",
    "        metric_df.columns = metric_df.columns.str.replace(metric_col, f\"{vectorizer}\").str.replace(\"-mean\", \"\")\n",
    "        recommended_idx_df.columns = recommended_idx_df.columns.str.replace(\"recommended_idx\", f\"{vectorizer}\").str.replace(\"-mean\", \"\")\n",
    "        dataframes.append(metric_df)\n",
    "        recommended_idx_dfs.append(recommended_idx_df)\n",
    "    return pd.concat(dataframes).sort_index(), pd.concat(recommended_idx_dfs).sort_index()\n",
    "\n",
    "def read_results_and_get_max_for_combination(evaluation_paths):\n",
    "    merged_csvs = []\n",
    "    merged_idx_csvs = []\n",
    "    for evaluation_path in evaluation_paths:\n",
    "        splitted = evaluation_path.split(\"_\")\n",
    "        vectorizer = splitted[0].split(\"\\\\\")[-1]\n",
    "        distance = splitted[1]\n",
    "        metric = splitted[2]\n",
    "        candidate = splitted[3]\n",
    "\n",
    "        csv_files = [path for path in os.listdir(evaluation_path) if path.endswith(\".csv\")]\n",
    "        res, idx = read_csv_files_and_merge(evaluation_path, csv_files, vectorizer, metric)\n",
    "        merged_csvs.append(res)\n",
    "        merged_idx_csvs.append(idx)\n",
    "\n",
    "    resulted = pd.concat(merged_csvs, axis=1)\n",
    "    resulted[\"max\"] = resulted.idxmax(axis=1)\n",
    "    df = resulted.eq(resulted.max(axis=1), axis=0)\n",
    "    resulted[\"max\"] = df.mul(df.columns.to_series()).apply(','.join, axis=1).str.strip(',').str.replace(f'_{metric}', '')\n",
    "    idx_merged = pd.concat(merged_idx_csvs, axis=1)\n",
    "    resulted[\"max_idx\"] = df.apply(lambda row: idx_merged.loc[row.name, resulted.loc[row.name, \"max\"].split(\",\")[0]], axis=1) \n",
    "    return resulted"
   ]
  },
  {
   "cell_type": "code",
   "execution_count": 4,
   "metadata": {},
   "outputs": [],
   "source": [
    "data = pd.read_csv(\"./data/comment_finder/all.csv\")\n",
    "\n",
    "def get_code(idx):\n",
    "    return data.loc[idx][\"code\"]\n",
    "\n",
    "def get_comment(idx):\n",
    "    return data.loc[idx][\"comment\"]\n"
   ]
  },
  {
   "cell_type": "code",
   "execution_count": 10,
   "metadata": {},
   "outputs": [
    {
     "name": "stderr",
     "output_type": "stream",
     "text": [
      "C:\\Users\\Kaan\\AppData\\Local\\Temp\\ipykernel_16124\\2298331820.py:31: FutureWarning: Dropping of nuisance columns in DataFrame reductions (with 'numeric_only=None') is deprecated; in a future version this will raise TypeError.  Select only valid columns before calling the reduction.\n",
      "  df = resulted.eq(resulted.max(axis=1), axis=0)\n",
      "C:\\Users\\Kaan\\AppData\\Local\\Temp\\ipykernel_16124\\2298331820.py:31: FutureWarning: Dropping of nuisance columns in DataFrame reductions (with 'numeric_only=None') is deprecated; in a future version this will raise TypeError.  Select only valid columns before calling the reduction.\n",
      "  df = resulted.eq(resulted.max(axis=1), axis=0)\n",
      "C:\\Users\\Kaan\\AppData\\Local\\Temp\\ipykernel_16124\\2298331820.py:31: FutureWarning: Dropping of nuisance columns in DataFrame reductions (with 'numeric_only=None') is deprecated; in a future version this will raise TypeError.  Select only valid columns before calling the reduction.\n",
      "  df = resulted.eq(resulted.max(axis=1), axis=0)\n",
      "C:\\Users\\Kaan\\AppData\\Local\\Temp\\ipykernel_16124\\2298331820.py:31: FutureWarning: Dropping of nuisance columns in DataFrame reductions (with 'numeric_only=None') is deprecated; in a future version this will raise TypeError.  Select only valid columns before calling the reduction.\n",
      "  df = resulted.eq(resulted.max(axis=1), axis=0)\n",
      "C:\\Users\\Kaan\\AppData\\Local\\Temp\\ipykernel_16124\\2298331820.py:31: FutureWarning: Dropping of nuisance columns in DataFrame reductions (with 'numeric_only=None') is deprecated; in a future version this will raise TypeError.  Select only valid columns before calling the reduction.\n",
      "  df = resulted.eq(resulted.max(axis=1), axis=0)\n",
      "C:\\Users\\Kaan\\AppData\\Local\\Temp\\ipykernel_16124\\2298331820.py:31: FutureWarning: Dropping of nuisance columns in DataFrame reductions (with 'numeric_only=None') is deprecated; in a future version this will raise TypeError.  Select only valid columns before calling the reduction.\n",
      "  df = resulted.eq(resulted.max(axis=1), axis=0)\n",
      "C:\\Users\\Kaan\\AppData\\Local\\Temp\\ipykernel_16124\\2298331820.py:31: FutureWarning: Dropping of nuisance columns in DataFrame reductions (with 'numeric_only=None') is deprecated; in a future version this will raise TypeError.  Select only valid columns before calling the reduction.\n",
      "  df = resulted.eq(resulted.max(axis=1), axis=0)\n",
      "C:\\Users\\Kaan\\AppData\\Local\\Temp\\ipykernel_16124\\2298331820.py:31: FutureWarning: Dropping of nuisance columns in DataFrame reductions (with 'numeric_only=None') is deprecated; in a future version this will raise TypeError.  Select only valid columns before calling the reduction.\n",
      "  df = resulted.eq(resulted.max(axis=1), axis=0)\n",
      "C:\\Users\\Kaan\\AppData\\Local\\Temp\\ipykernel_16124\\2298331820.py:31: FutureWarning: Dropping of nuisance columns in DataFrame reductions (with 'numeric_only=None') is deprecated; in a future version this will raise TypeError.  Select only valid columns before calling the reduction.\n",
      "  df = resulted.eq(resulted.max(axis=1), axis=0)\n",
      "C:\\Users\\Kaan\\AppData\\Local\\Temp\\ipykernel_16124\\2298331820.py:31: FutureWarning: Dropping of nuisance columns in DataFrame reductions (with 'numeric_only=None') is deprecated; in a future version this will raise TypeError.  Select only valid columns before calling the reduction.\n",
      "  df = resulted.eq(resulted.max(axis=1), axis=0)\n",
      "C:\\Users\\Kaan\\AppData\\Local\\Temp\\ipykernel_16124\\2298331820.py:31: FutureWarning: Dropping of nuisance columns in DataFrame reductions (with 'numeric_only=None') is deprecated; in a future version this will raise TypeError.  Select only valid columns before calling the reduction.\n",
      "  df = resulted.eq(resulted.max(axis=1), axis=0)\n",
      "C:\\Users\\Kaan\\AppData\\Local\\Temp\\ipykernel_16124\\2298331820.py:31: FutureWarning: Dropping of nuisance columns in DataFrame reductions (with 'numeric_only=None') is deprecated; in a future version this will raise TypeError.  Select only valid columns before calling the reduction.\n",
      "  df = resulted.eq(resulted.max(axis=1), axis=0)\n"
     ]
    }
   ],
   "source": [
    "for combination in combinations:\n",
    "    evaluation_paths = glob.glob(f\".\\\\results/{combination}\")\n",
    "    result = read_results_and_get_max_for_combination(evaluation_paths)\n",
    "    result[\"code\"] = result.apply(lambda row: get_code(row[\"max_idx\"]), axis=1)\n",
    "    result[\"comment\"] = result.apply(lambda row: get_comment(row[\"max_idx\"]), axis=1)\n",
    "    result = result.reset_index().drop(columns=[\"test_idx\", \"max_idx\"])\n",
    "    cols = list(result.columns)\n",
    "    new_cols = np.concatenate((cols[-2:], cols[:-2]))\n",
    "    result = result[new_cols]\n",
    "    result.to_csv(f\"./evaluation/{combination.replace('*','')}.csv\", index=False)"
   ]
  },
  {
   "cell_type": "code",
   "execution_count": null,
   "metadata": {},
   "outputs": [],
   "source": [
    "# x = read_results_and_get_max_for_combination(evaluation_paths)"
   ]
  }
 ],
 "metadata": {
  "kernelspec": {
   "display_name": "env",
   "language": "python",
   "name": "python3"
  },
  "language_info": {
   "codemirror_mode": {
    "name": "ipython",
    "version": 3
   },
   "file_extension": ".py",
   "mimetype": "text/x-python",
   "name": "python",
   "nbconvert_exporter": "python",
   "pygments_lexer": "ipython3",
   "version": "3.9.1"
  },
  "orig_nbformat": 4,
  "vscode": {
   "interpreter": {
    "hash": "f8cf77c51bdd57ba638a1c8caf3e4c5611a3b47850360d5dea5b65d02fac5505"
   }
  }
 },
 "nbformat": 4,
 "nbformat_minor": 2
}
